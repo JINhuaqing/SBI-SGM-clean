{
 "cells": [
  {
   "cell_type": "markdown",
   "id": "48ee4fd6",
   "metadata": {},
   "source": [
    "This file is to try SBI_SGM \n",
    "\n",
    "And I train model with a general connectome.\n"
   ]
  },
  {
   "cell_type": "markdown",
   "id": "269c1f0a",
   "metadata": {},
   "source": [
    "# import and define"
   ]
  },
  {
   "cell_type": "code",
   "execution_count": 1,
   "id": "4e45686c",
   "metadata": {
    "ExecuteTime": {
     "end_time": "2024-03-03T18:59:39.638874Z",
     "start_time": "2024-03-03T18:59:39.620603Z"
    }
   },
   "outputs": [],
   "source": [
    "import sys\n",
    "sys.path.append(\"../mypkg\")\n",
    "# There is some pkgs incompatible (not really know why),\n",
    "# make sure you input `mkl` at the beginning of the file\n",
    "# to eliminate the incompatible error\n",
    "import mkl "
   ]
  },
  {
   "cell_type": "code",
   "execution_count": 2,
   "id": "c93dcfe1",
   "metadata": {
    "ExecuteTime": {
     "end_time": "2024-03-03T18:59:41.086514Z",
     "start_time": "2024-03-03T18:59:39.641590Z"
    }
   },
   "outputs": [],
   "source": [
    "import scipy\n",
    "import torch\n",
    "import numpy as np\n",
    "import pandas as pd\n",
    "import matplotlib.pyplot as plt\n",
    "import seaborn as sns\n",
    "\n",
    "from easydict import EasyDict as edict\n",
    "from pathlib import Path\n",
    "from tqdm import trange, tqdm\n",
    "from functools import partial"
   ]
  },
  {
   "cell_type": "code",
   "execution_count": 3,
   "id": "8bbf603a",
   "metadata": {
    "ExecuteTime": {
     "end_time": "2024-03-03T18:59:41.102890Z",
     "start_time": "2024-03-03T18:59:41.087478Z"
    }
   },
   "outputs": [],
   "source": [
    "# This will reload all imports as soon as the code changes\n",
    "%load_ext autoreload\n",
    "%autoreload 2"
   ]
  },
  {
   "cell_type": "code",
   "execution_count": 4,
   "id": "da2f4f7a",
   "metadata": {
    "ExecuteTime": {
     "end_time": "2024-03-03T18:59:43.531393Z",
     "start_time": "2024-03-03T18:59:41.104231Z"
    }
   },
   "outputs": [],
   "source": [
    "from constants import RES_ROOT, FIG_ROOT, DATA_ROOT\n",
    "from sgm.sbi_sgm import SBI_SGM\n",
    "from sgm.sgm import SGM\n",
    "from utils.misc import load_pkl"
   ]
  },
  {
   "cell_type": "code",
   "execution_count": null,
   "id": "fb05abd8",
   "metadata": {},
   "outputs": [],
   "source": []
  },
  {
   "cell_type": "markdown",
   "id": "4022c78f",
   "metadata": {},
   "source": [
    "# Load real data \n",
    "\n",
    "I prepare an example meg data under `data/example_meg.pkl`\n",
    "\n",
    "it contains:\n",
    "\n",
    "- sc_mat: sc matrix\n",
    "- dist_mat: distance matrix\n",
    "- ts: the original meg time series\n",
    "- fc: the fc matrix from ts\n",
    "- psd: the PSD from ts\n",
    "- freqs: The freqs pts corresponding to psd\n",
    "- fs: sampling freq (in Hz)"
   ]
  },
  {
   "cell_type": "code",
   "execution_count": 5,
   "id": "ab36a874",
   "metadata": {
    "ExecuteTime": {
     "end_time": "2024-03-03T18:59:43.561700Z",
     "start_time": "2024-03-03T18:59:43.532783Z"
    }
   },
   "outputs": [
    {
     "name": "stdout",
     "output_type": "stream",
     "text": [
      "Load file /data/rajlab1/user_data/jin/MyResearch/SBI-SGM_clean/notebooks/../mypkg/../data/example_meg.pkl\n"
     ]
    }
   ],
   "source": [
    "meg_example = load_pkl(DATA_ROOT/\"example_meg.pkl\");\n",
    "sc_mat = meg_example.sc_mat\n",
    "dist_mat = meg_example.dist_mat\n",
    "freqs = meg_example.freqs\n",
    "fc = meg_example.fc\n",
    "psd = meg_example.psd\n",
    "ts = meg_example.ts;"
   ]
  },
  {
   "cell_type": "code",
   "execution_count": 6,
   "id": "712fd04b",
   "metadata": {
    "ExecuteTime": {
     "end_time": "2024-03-03T18:59:43.583798Z",
     "start_time": "2024-03-03T18:59:43.562746Z"
    }
   },
   "outputs": [
    {
     "name": "stderr",
     "output_type": "stream",
     "text": [
      "2024-03-03 10:59:43,581 - sgm.sgm - INFO - Num of ROI is 68.\n"
     ]
    }
   ],
   "source": [
    "# initialize the sgmmodel class\n",
    "\n",
    "sgmmodel = SGM(C=sc_mat, D=dist_mat, freqs=freqs, verbose=2);"
   ]
  },
  {
   "cell_type": "markdown",
   "id": "abf41923",
   "metadata": {},
   "source": [
    "# Fitting with `SBI`"
   ]
  },
  {
   "cell_type": "code",
   "execution_count": 7,
   "id": "cffc6ef3",
   "metadata": {
    "ExecuteTime": {
     "end_time": "2024-03-03T18:59:43.615740Z",
     "start_time": "2024-03-03T18:59:43.584696Z"
    }
   },
   "outputs": [
    {
     "data": {
      "text/plain": [
       "<sgm.sbi_sgm.SBI_SGM at 0x7fb8ed062580>"
      ]
     },
     "execution_count": 7,
     "metadata": {},
     "output_type": "execute_result"
    }
   ],
   "source": [
    "\"\"\"\n",
    "initial the SBI_SGM class\n",
    "sgmmodel: SGM class.\n",
    "save_folder: the folder you want to save the results to, str or bool, if True, it generates a default folder\n",
    "verbose: more output or not. if you feel the output info is annoying, set verbose=0,1,2, 3,\n",
    "        A larger number indicates more verbose output.\n",
    "params: all other parameters\n",
    "  - num_round: the num of rounds to training sbi\n",
    "  - num_prior_sps: the num of sps used to train SBI, \n",
    "                   10,000 is a good starting point for single round training\n",
    "                   1000 is a good starting point for num_round=3\n",
    "  - noise_sd: the noise sd added to SGM output, \n",
    "These three are most inferential params in SBI_SGM\n",
    "  - fit_target: can be fc, psd or both.\n",
    "    if fitting on fc only, SGM model includes 3 parameters, otherwise it has 7 parameters\n",
    "other params for fitting sbi, refer to source file\n",
    "\"\"\"\n",
    "sbi_sgm = SBI_SGM(sgmmodel, \n",
    "                  save_folder=\"sbisgm_meg\", \n",
    "                  verbose=1, params={\n",
    "                      \"fit_target\":\"both\", \n",
    "                      \"noise_sd\": 0.5, \n",
    "                      \"num_prior_sps\":500, \n",
    "                      \"num_round\":3})"
   ]
  },
  {
   "cell_type": "code",
   "execution_count": 8,
   "id": "68ed4097",
   "metadata": {
    "ExecuteTime": {
     "end_time": "2024-03-03T18:59:43.639258Z",
     "start_time": "2024-03-03T18:59:43.616685Z"
    }
   },
   "outputs": [],
   "source": [
    "\"\"\"\n",
    "You add the real data to the fitting\n",
    "- The data required depend on your fit_target\n",
    "- You can also input raw meg time series other than fc/psd\n",
    "\n",
    "psd: the psd in abs mag, nroi x nfreq\n",
    "fc: The fc matrix, (we do not care about diag terms)\n",
    "ts: the raw meg time series, \n",
    "    if psd and fc are provided,\n",
    "    ts will be ignored\n",
    "fs: Sampling freqs, only required when you need get fc/psd from ts\n",
    "\"\"\"\n",
    "sbi_sgm.add_data(fc=fc, psd=psd);\n",
    "# if use raw meg data, plz also give sampling freq\n",
    "# you can specify some parameters for PSD or FC estimation, \n",
    "# plz refer to the source file\n",
    "#sbi_sgm.add_data(ts=ts, fs=fs);"
   ]
  },
  {
   "cell_type": "code",
   "execution_count": 9,
   "id": "0e69d1a6",
   "metadata": {
    "ExecuteTime": {
     "end_time": "2024-03-03T19:02:56.311694Z",
     "start_time": "2024-03-03T18:59:43.640955Z"
    },
    "scrolled": true
   },
   "outputs": [
    {
     "data": {
      "application/vnd.jupyter.widget-view+json": {
       "model_id": "b87b6db9e4944968a5cf7c38a7dd9810",
       "version_major": 2,
       "version_minor": 0
      },
      "text/plain": [
       "Running 500 simulations in 500 batches.:   0%|          | 0/500 [00:00<?, ?it/s]"
      ]
     },
     "metadata": {},
     "output_type": "display_data"
    },
    {
     "name": "stdout",
     "output_type": "stream",
     "text": [
      " Neural network successfully converged after 32 epochs."
     ]
    },
    {
     "data": {
      "application/vnd.jupyter.widget-view+json": {
       "model_id": "c7455aba75a743c2b1e9f9715bc1235c",
       "version_major": 2,
       "version_minor": 0
      },
      "text/plain": [
       "Drawing 500 posterior samples:   0%|          | 0/500 [00:00<?, ?it/s]"
      ]
     },
     "metadata": {},
     "output_type": "display_data"
    },
    {
     "name": "stderr",
     "output_type": "stream",
     "text": [
      "/home/hujin/.local/lib/python3.9/site-packages/nflows/transforms/lu.py:80: UserWarning: torch.triangular_solve is deprecated in favor of torch.linalg.solve_triangularand will be removed in a future PyTorch release.\n",
      "torch.linalg.solve_triangular has its arguments reversed and does not return a copy of one of the inputs.\n",
      "X = torch.triangular_solve(B, A).solution\n",
      "should be replaced with\n",
      "X = torch.linalg.solve_triangular(A, B). (Triggered internally at  ../aten/src/ATen/native/BatchLinearAlgebra.cpp:2189.)\n",
      "  outputs, _ = torch.triangular_solve(\n"
     ]
    },
    {
     "data": {
      "application/vnd.jupyter.widget-view+json": {
       "model_id": "ae505804127a404fb00528d7bcf86a10",
       "version_major": 2,
       "version_minor": 0
      },
      "text/plain": [
       "Running 500 simulations in 500 batches.:   0%|          | 0/500 [00:00<?, ?it/s]"
      ]
     },
     "metadata": {},
     "output_type": "display_data"
    },
    {
     "name": "stdout",
     "output_type": "stream",
     "text": [
      "Using SNPE-C with atomic loss\n",
      " Neural network successfully converged after 29 epochs."
     ]
    },
    {
     "data": {
      "application/vnd.jupyter.widget-view+json": {
       "model_id": "0ac33c295f9448a4a1102bd5f1c214bb",
       "version_major": 2,
       "version_minor": 0
      },
      "text/plain": [
       "Drawing 500 posterior samples:   0%|          | 0/500 [00:00<?, ?it/s]"
      ]
     },
     "metadata": {},
     "output_type": "display_data"
    },
    {
     "data": {
      "application/vnd.jupyter.widget-view+json": {
       "model_id": "a0a9c8adf2ee4cddb030a50c333354d3",
       "version_major": 2,
       "version_minor": 0
      },
      "text/plain": [
       "Running 500 simulations in 500 batches.:   0%|          | 0/500 [00:00<?, ?it/s]"
      ]
     },
     "metadata": {},
     "output_type": "display_data"
    },
    {
     "name": "stdout",
     "output_type": "stream",
     "text": [
      "Using SNPE-C with atomic loss\n",
      " Neural network successfully converged after 44 epochs.Save to /data/rajlab1/user_data/jin/MyResearch/SBI-SGM_clean/notebooks/../mypkg/../results/sbisgm_meg/posterior.pkl\n"
     ]
    }
   ],
   "source": [
    "# now you can fit the model\n",
    "# load: if you have saved results, \n",
    "# you can set load = true to load it\n",
    "sbi_sgm.SBI_fit(load=False)"
   ]
  },
  {
   "cell_type": "code",
   "execution_count": 10,
   "id": "fa32fd40",
   "metadata": {
    "ExecuteTime": {
     "end_time": "2024-03-03T19:02:57.649759Z",
     "start_time": "2024-03-03T19:02:56.315656Z"
    }
   },
   "outputs": [
    {
     "data": {
      "application/vnd.jupyter.widget-view+json": {
       "model_id": "b48e56a91da04da2a935ef19b123a7d8",
       "version_major": 2,
       "version_minor": 0
      },
      "text/plain": [
       "Drawing 10000 posterior samples:   0%|          | 0/10000 [00:00<?, ?it/s]"
      ]
     },
     "metadata": {},
     "output_type": "display_data"
    }
   ],
   "source": [
    "# Get the posterior samples of SGM parameters\n",
    "# n: num of sps to draw\n",
    "sps = sbi_sgm.get_post_sps(n=10000);"
   ]
  },
  {
   "cell_type": "code",
   "execution_count": 15,
   "id": "55253703",
   "metadata": {
    "ExecuteTime": {
     "end_time": "2024-03-04T02:45:46.760489Z",
     "start_time": "2024-03-04T02:45:46.555012Z"
    }
   },
   "outputs": [
    {
     "data": {
      "text/plain": [
       "{'alpha': 0.9314119239275759,\n",
       " 'gei': 0.5127613528294604,\n",
       " 'gii': 0.5831975445228299,\n",
       " 'speed': 18.884975839708,\n",
       " 'taue': 0.009975904438654275,\n",
       " 'taug': 0.008357731170142227,\n",
       " 'taui': 0.1747301642491912}"
      ]
     },
     "execution_count": 15,
     "metadata": {},
     "output_type": "execute_result"
    }
   ],
   "source": [
    "# get the point estimate of sgm params\n",
    "# mode: \"mean\" or \"median\", default is mean\n",
    "sbi_sgm.get_point_est(mode=\"mean\")\n",
    "sbi_sgm.pt_est_name"
   ]
  },
  {
   "cell_type": "code",
   "execution_count": 16,
   "id": "33239cb4",
   "metadata": {
    "ExecuteTime": {
     "end_time": "2024-03-04T02:45:48.692195Z",
     "start_time": "2024-03-04T02:45:47.469710Z"
    }
   },
   "outputs": [],
   "source": [
    "# based on generated sgm parameters, \n",
    "# get modeled psd and fc\n",
    "# Now psd is in std dB\n",
    "# fc is minmaxed\n",
    "sbi_sgm.get_model_fc();\n",
    "sbi_sgm.get_model_psd();"
   ]
  },
  {
   "cell_type": "code",
   "execution_count": 17,
   "id": "8ab62f75",
   "metadata": {
    "ExecuteTime": {
     "end_time": "2024-03-04T02:45:49.953082Z",
     "start_time": "2024-03-04T02:45:49.632903Z"
    }
   },
   "outputs": [
    {
     "data": {
      "image/png": "[encoded data removed]",
      "text/plain": [
       "<Figure size 1008x360 with 3 Axes>"
      ]
     },
     "metadata": {
      "needs_background": "light"
     },
     "output_type": "display_data"
    }
   ],
   "source": [
    "# compare your fitted one vs the empircal one\n",
    "# type_: the results you want to show, \"fc\", \"psd\" or \"both\"\n",
    "#        if None,  it shows plots depends on your fit_target\n",
    "sbi_sgm.plot_compare(type_=None)"
   ]
  },
  {
   "cell_type": "code",
   "execution_count": 18,
   "id": "09ae2bb8",
   "metadata": {
    "ExecuteTime": {
     "end_time": "2024-03-04T02:45:53.300102Z",
     "start_time": "2024-03-04T02:45:51.713916Z"
    }
   },
   "outputs": [
    {
     "data": {
      "image/png": "[encoded data removed]",
      "text/plain": [
       "<Figure size 720x720 with 49 Axes>"
      ]
     },
     "metadata": {
      "needs_background": "light"
     },
     "output_type": "display_data"
    }
   ],
   "source": [
    "# the posterior density of sgm parameters\n",
    "sbi_sgm.plot_pairdensity()"
   ]
  },
  {
   "cell_type": "code",
   "execution_count": null,
   "id": "cd13d1d5",
   "metadata": {},
   "outputs": [],
   "source": []
  }
 ],
 "metadata": {
  "kernelspec": {
   "display_name": "Python 3 (ipykernel)",
   "language": "python",
   "name": "python3"
  },
  "language_info": {
   "codemirror_mode": {
    "name": "ipython",
    "version": 3
   },
   "file_extension": ".py",
   "mimetype": "text/x-python",
   "name": "python",
   "nbconvert_exporter": "python",
   "pygments_lexer": "ipython3",
   "version": "3.9.7"
  },
  "toc": {
   "base_numbering": 1,
   "nav_menu": {},
   "number_sections": true,
   "sideBar": true,
   "skip_h1_title": false,
   "title_cell": "Table of Contents",
   "title_sidebar": "Contents",
   "toc_cell": false,
   "toc_position": {
    "height": "calc(100% - 180px)",
    "left": "10px",
    "top": "150px",
    "width": "193px"
   },
   "toc_section_display": true,
   "toc_window_display": false
  }
 },
 "nbformat": 4,
 "nbformat_minor": 5
}
