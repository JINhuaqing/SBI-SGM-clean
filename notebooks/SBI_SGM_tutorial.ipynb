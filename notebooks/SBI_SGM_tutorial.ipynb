{
 "cells": [
  {
   "cell_type": "markdown",
   "id": "48ee4fd6",
   "metadata": {},
   "source": [
    "This file is to try SBI_SGM \n",
    "\n",
    "And I train model with a general connectome.\n"
   ]
  },
  {
   "cell_type": "markdown",
   "id": "269c1f0a",
   "metadata": {},
   "source": [
    "# import and define"
   ]
  },
  {
   "cell_type": "code",
   "execution_count": 1,
   "id": "4e45686c",
   "metadata": {
    "ExecuteTime": {
     "end_time": "2023-12-05T06:11:15.214417Z",
     "start_time": "2023-12-05T06:11:15.203765Z"
    }
   },
   "outputs": [],
   "source": [
    "import os\n",
    "import sys\n",
    "module_path = os.path.abspath(os.path.join('../mypkg'))\n",
    "if module_path not in sys.path:\n",
    "    sys.path.append(module_path)"
   ]
  },
  {
   "cell_type": "code",
   "execution_count": 2,
   "id": "c93dcfe1",
   "metadata": {
    "ExecuteTime": {
     "end_time": "2023-12-05T06:11:17.444290Z",
     "start_time": "2023-12-05T06:11:15.948116Z"
    }
   },
   "outputs": [],
   "source": [
    "from tqdm import trange, tqdm\n",
    "\n",
    "import numpy as np\n",
    "import xarray as xr\n",
    "from easydict import EasyDict as edict\n",
    "from pathlib import Path\n",
    "import pickle\n",
    "import scipy\n",
    "\n",
    "import seaborn as sns\n",
    "import pandas as pd\n",
    "import matplotlib.pyplot as plt\n",
    "from functools import partial\n",
    "import logging"
   ]
  },
  {
   "cell_type": "code",
   "execution_count": 3,
   "id": "8bbf603a",
   "metadata": {
    "ExecuteTime": {
     "end_time": "2023-12-05T06:11:17.460572Z",
     "start_time": "2023-12-05T06:11:17.445851Z"
    }
   },
   "outputs": [],
   "source": [
    "# This will reload all imports as soon as the code changes\n",
    "%load_ext autoreload\n",
    "%autoreload 2"
   ]
  },
  {
   "cell_type": "code",
   "execution_count": 24,
   "id": "da2f4f7a",
   "metadata": {
    "ExecuteTime": {
     "end_time": "2023-12-05T06:19:39.124653Z",
     "start_time": "2023-12-05T06:19:39.082881Z"
    }
   },
   "outputs": [],
   "source": [
    "from constants import RES_ROOT, FIG_ROOT, DAT_ROOT\n",
    "from sbi_sgm import SBI_SGM\n",
    "from spectrome import Brain\n",
    "from sgm.sgm import SGM\n",
    "from utils.standardize import psd_2tr, stdz_vec"
   ]
  },
  {
   "cell_type": "code",
   "execution_count": null,
   "id": "fb05abd8",
   "metadata": {},
   "outputs": [],
   "source": []
  },
  {
   "cell_type": "markdown",
   "id": "4022c78f",
   "metadata": {},
   "source": [
    "# Load real data PSD and brain"
   ]
  },
  {
   "cell_type": "code",
   "execution_count": 5,
   "id": "bb358643",
   "metadata": {
    "ExecuteTime": {
     "end_time": "2023-12-05T06:11:19.466016Z",
     "start_time": "2023-12-05T06:11:19.197090Z"
    }
   },
   "outputs": [],
   "source": [
    "# Load data\n",
    "ind_psd_xr = xr.open_dataarray(DAT_ROOT/'individual_psd_reordered_matlab.nc')\n",
    "ind_psd = ind_psd_xr.values\n",
    "FREQS = ind_psd_xr[\"frequencies\"].values\n",
    "ind_conn_xr = xr.open_dataarray(DAT_ROOT/'individual_connectomes_reordered.nc')\n",
    "ind_conn = ind_conn_xr.values;"
   ]
  },
  {
   "cell_type": "code",
   "execution_count": 6,
   "id": "4f98de83",
   "metadata": {
    "ExecuteTime": {
     "end_time": "2023-12-05T06:11:19.527785Z",
     "start_time": "2023-12-05T06:11:19.469071Z"
    }
   },
   "outputs": [],
   "source": [
    "# define a SGM model\n",
    "brain = Brain.Brain()\n",
    "brain.add_connectome(DAT_ROOT)\n",
    "brain.reorder_connectome(brain.connectome, brain.distance_matrix)\n",
    "brain.bi_symmetric_c()\n",
    "brain.reduce_extreme_dir()\n",
    "sgmmodel = SGM(brain.reducedConnectome, brain.distance_matrix, FREQS);"
   ]
  },
  {
   "cell_type": "markdown",
   "id": "fec57757",
   "metadata": {},
   "source": [
    "# SBI-SGM class"
   ]
  },
  {
   "cell_type": "code",
   "execution_count": 7,
   "id": "6f745027",
   "metadata": {
    "ExecuteTime": {
     "end_time": "2023-12-05T06:11:20.498032Z",
     "start_time": "2023-12-05T06:11:20.455217Z"
    }
   },
   "outputs": [
    {
     "data": {
      "text/plain": [
       "<Logger sbi_sgm (DEBUG)>"
      ]
     },
     "execution_count": 7,
     "metadata": {},
     "output_type": "execute_result"
    }
   ],
   "source": [
    "logger = logging.getLogger(\"sbi_sgm\")\n",
    "#logger.handlers[0].setLevel(logging.INFO)\n",
    "# if you feel the output info is annoying, uncomment this\n",
    "#logger.handlers[0].setLevel(logging.WARNING)"
   ]
  },
  {
   "cell_type": "code",
   "execution_count": 12,
   "id": "6e4d78f0",
   "metadata": {
    "ExecuteTime": {
     "end_time": "2023-12-05T06:13:33.123929Z",
     "start_time": "2023-12-05T06:13:33.069291Z"
    }
   },
   "outputs": [
    {
     "name": "stderr",
     "output_type": "stream",
     "text": [
      "2023-12-04 22:13:33,116 - sbi_sgm - INFO - In this class, the sgm parameter order is ['Taue', 'Taui', 'TauC', 'Speed', 'alpha', 'gii', 'gei'].\n",
      "2023-12-04 22:13:33,118 - sbi_sgm - INFO - {'noise_sd': 0.2, 'num_prior_sps': 1000, 'den_est': 'nsf', 'is_embed': False, 'prior_sd': 10, 'k': 0.1, 'names': ['Taue', 'Taui', 'TauC', 'Speed', 'alpha', 'gii', 'gei'], 'prior_bds': array([[5.e-03, 3.e-02],\n",
      "       [5.e-03, 2.e-01],\n",
      "       [5.e-03, 3.e-02],\n",
      "       [5.e+00, 2.e+01],\n",
      "       [1.e-01, 1.e+00],\n",
      "       [1.e-03, 2.e+00],\n",
      "       [1.e-03, 7.e-01]])}\n",
      "2023-12-04 22:13:33,120 - sbi_sgm - INFO - Results will be saved at /data/rajlab1/user_data/jin/MyResearch/SBI-SGM_clean/mypkg/../results/test.\n"
     ]
    }
   ],
   "source": [
    "# initial the SBI_SGM class\n",
    "# sgmmodel: SGM class.\n",
    "# save_folder: the folder you want to save the results to, str or bool, if True, it generates a default folder\n",
    "# other params for fitting sbi, refer to source file\n",
    "sbi_sgm = SBI_SGM(sgmmodel, save_folder=\"test\", num_prior_sps=1000);"
   ]
  },
  {
   "cell_type": "code",
   "execution_count": 13,
   "id": "092c8be7",
   "metadata": {
    "ExecuteTime": {
     "end_time": "2023-12-05T06:15:02.452447Z",
     "start_time": "2023-12-05T06:14:00.818716Z"
    }
   },
   "outputs": [
    {
     "data": {
      "application/vnd.jupyter.widget-view+json": {
       "model_id": "801f89049c5f4dd19079881231a3345b",
       "version_major": 2,
       "version_minor": 0
      },
      "text/plain": [
       "Running 1000 simulations in 1000 batches.:   0%|          | 0/1000 [00:00<?, ?it/s]"
      ]
     },
     "metadata": {},
     "output_type": "display_data"
    },
    {
     "name": "stdout",
     "output_type": "stream",
     "text": [
      " Neural network successfully converged after 26 epochs.Save to /data/rajlab1/user_data/jin/MyResearch/SBI-SGM_clean/mypkg/../results/test/posterior.pkl\n"
     ]
    }
   ],
   "source": [
    "# now you can fit the model\n",
    "# load: if you have saved results, you can set load = true to load it\n",
    "sbi_sgm.SBI_fit(load=False)"
   ]
  },
  {
   "cell_type": "code",
   "execution_count": 16,
   "id": "58ffc553",
   "metadata": {
    "ExecuteTime": {
     "end_time": "2023-12-05T06:16:47.222810Z",
     "start_time": "2023-12-05T06:16:47.179859Z"
    }
   },
   "outputs": [],
   "source": [
    "# you add the psd data for inference \n",
    "# note that psd is not in dB, it is in linear (abs magnitude)\n",
    "sbi_sgm.add_data(psd=ind_psd[:, :, 0])"
   ]
  },
  {
   "cell_type": "code",
   "execution_count": 18,
   "id": "08e92a45",
   "metadata": {
    "ExecuteTime": {
     "end_time": "2023-12-05T06:17:20.384118Z",
     "start_time": "2023-12-05T06:17:20.122195Z"
    }
   },
   "outputs": [
    {
     "data": {
      "application/vnd.jupyter.widget-view+json": {
       "model_id": "1dceeddffe3c419cb6853c6b9a4d26e6",
       "version_major": 2,
       "version_minor": 0
      },
      "text/plain": [
       "Drawing 1000 posterior samples:   0%|          | 0/1000 [00:00<?, ?it/s]"
      ]
     },
     "metadata": {},
     "output_type": "display_data"
    }
   ],
   "source": [
    "# Get the posterior samples of SGM\n",
    "# n: num of sps to draw\n",
    "sbi_sgm.get_post_sps(n=1000);"
   ]
  },
  {
   "cell_type": "code",
   "execution_count": 20,
   "id": "01944e1a",
   "metadata": {
    "ExecuteTime": {
     "end_time": "2023-12-05T06:18:14.537623Z",
     "start_time": "2023-12-05T06:18:13.371059Z"
    }
   },
   "outputs": [],
   "source": [
    "# based on generated sgm parameters, get modeled psd and sp\n",
    "# Now psd is in std dB\n",
    "psd, sp = sbi_sgm.get_model_psd_sp();"
   ]
  },
  {
   "cell_type": "code",
   "execution_count": 21,
   "id": "a1d72809",
   "metadata": {
    "ExecuteTime": {
     "end_time": "2023-12-05T06:18:50.424206Z",
     "start_time": "2023-12-05T06:18:44.262673Z"
    }
   },
   "outputs": [
    {
     "data": {
      "application/vnd.jupyter.widget-view+json": {
       "model_id": "f85d24dbcc9d42b6b09dc4976e51ba01",
       "version_major": 2,
       "version_minor": 0
      },
      "text/plain": [
       "Drawing 100 posterior samples:   0%|          | 0/100 [00:00<?, ?it/s]"
      ]
     },
     "metadata": {},
     "output_type": "display_data"
    },
    {
     "data": {
      "application/vnd.jupyter.widget-view+json": {
       "model_id": "ab9fe40ddb3c4cb7bad4a6dbbd7df56e",
       "version_major": 2,
       "version_minor": 0
      },
      "text/plain": [
       "Running 100 simulations in 100 batches.:   0%|          | 0/100 [00:00<?, ?it/s]"
      ]
     },
     "metadata": {},
     "output_type": "display_data"
    }
   ],
   "source": [
    "# you can further get posterior PSD (in std dB)\n",
    "# n: num of sps to draw\n",
    "sbi_sgm.get_post_psd_sps();"
   ]
  },
  {
   "cell_type": "code",
   "execution_count": 28,
   "id": "43c52e6c",
   "metadata": {
    "ExecuteTime": {
     "end_time": "2023-12-05T06:20:19.306702Z",
     "start_time": "2023-12-05T06:20:19.129664Z"
    }
   },
   "outputs": [
    {
     "data": {
      "text/plain": [
       "<matplotlib.legend.Legend at 0x7f0cb65e8430>"
      ]
     },
     "execution_count": 28,
     "metadata": {},
     "output_type": "execute_result"
    },
    {
     "data": {
      "image/png": "[encoded data removed]",
      "text/plain": [
       "<Figure size 432x288 with 1 Axes>"
      ]
     },
     "metadata": {
      "needs_background": "light"
     },
     "output_type": "display_data"
    }
   ],
   "source": [
    "plt.plot(FREQS, stdz_vec(psd.mean(axis=0)), label=\"Model PSD\")\n",
    "plt.plot(FREQS, stdz_vec(psd_2tr(ind_psd[:, :, 0]).mean(axis=0)), label=\"Empirical PSD\")\n",
    "plt.legend()"
   ]
  },
  {
   "cell_type": "code",
   "execution_count": null,
   "id": "1e556805",
   "metadata": {},
   "outputs": [],
   "source": []
  }
 ],
 "metadata": {
  "kernelspec": {
   "display_name": "Python 3 (ipykernel)",
   "language": "python",
   "name": "python3"
  },
  "language_info": {
   "codemirror_mode": {
    "name": "ipython",
    "version": 3
   },
   "file_extension": ".py",
   "mimetype": "text/x-python",
   "name": "python",
   "nbconvert_exporter": "python",
   "pygments_lexer": "ipython3",
   "version": "3.9.7"
  },
  "toc": {
   "base_numbering": 1,
   "nav_menu": {},
   "number_sections": true,
   "sideBar": true,
   "skip_h1_title": false,
   "title_cell": "Table of Contents",
   "title_sidebar": "Contents",
   "toc_cell": false,
   "toc_position": {
    "height": "calc(100% - 180px)",
    "left": "10px",
    "top": "150px",
    "width": "193px"
   },
   "toc_section_display": true,
   "toc_window_display": true
  }
 },
 "nbformat": 4,
 "nbformat_minor": 5
}
