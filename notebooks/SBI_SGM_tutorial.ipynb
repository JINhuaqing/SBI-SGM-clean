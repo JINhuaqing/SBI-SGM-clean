{
 "cells": [
  {
   "cell_type": "markdown",
   "id": "48ee4fd6",
   "metadata": {},
   "source": [
    "This file is to try SBI_SGM \n",
    "\n",
    "And I train model with a general connectome.\n"
   ]
  },
  {
   "cell_type": "markdown",
   "id": "269c1f0a",
   "metadata": {},
   "source": [
    "# import and define"
   ]
  },
  {
   "cell_type": "code",
   "execution_count": 1,
   "id": "4e45686c",
   "metadata": {
    "ExecuteTime": {
     "end_time": "2024-01-17T23:56:25.059387Z",
     "start_time": "2024-01-17T23:56:25.023704Z"
    }
   },
   "outputs": [],
   "source": [
    "import sys\n",
    "sys.path.append(\"../mypkg\")"
   ]
  },
  {
   "cell_type": "code",
   "execution_count": 2,
   "id": "c93dcfe1",
   "metadata": {
    "ExecuteTime": {
     "end_time": "2024-01-17T23:56:34.512755Z",
     "start_time": "2024-01-17T23:56:25.651837Z"
    }
   },
   "outputs": [],
   "source": [
    "from tqdm import trange, tqdm\n",
    "\n",
    "import numpy as np\n",
    "import xarray as xr\n",
    "from easydict import EasyDict as edict\n",
    "from pathlib import Path\n",
    "import pickle\n",
    "import scipy\n",
    "\n",
    "import seaborn as sns\n",
    "import pandas as pd\n",
    "import matplotlib.pyplot as plt\n",
    "from functools import partial\n",
    "import logging"
   ]
  },
  {
   "cell_type": "code",
   "execution_count": 3,
   "id": "8bbf603a",
   "metadata": {
    "ExecuteTime": {
     "end_time": "2024-01-17T23:56:34.613713Z",
     "start_time": "2024-01-17T23:56:34.514745Z"
    }
   },
   "outputs": [],
   "source": [
    "# This will reload all imports as soon as the code changes\n",
    "%load_ext autoreload\n",
    "%autoreload 2"
   ]
  },
  {
   "cell_type": "code",
   "execution_count": 5,
   "id": "da2f4f7a",
   "metadata": {
    "ExecuteTime": {
     "end_time": "2024-01-17T23:56:48.679196Z",
     "start_time": "2024-01-17T23:56:48.642669Z"
    }
   },
   "outputs": [],
   "source": [
    "from constants import RES_ROOT, FIG_ROOT, DAT_ROOT\n",
    "from sbi_sgm import SBI_SGM\n",
    "from spectrome import Brain\n",
    "from sgm.sgm import SGM\n",
    "from utils.standardize import psd_2tr, stdz_vec"
   ]
  },
  {
   "cell_type": "code",
   "execution_count": null,
   "id": "fb05abd8",
   "metadata": {},
   "outputs": [],
   "source": []
  },
  {
   "cell_type": "markdown",
   "id": "4022c78f",
   "metadata": {},
   "source": [
    "# Load real data PSD and brain"
   ]
  },
  {
   "cell_type": "code",
   "execution_count": 6,
   "id": "bb358643",
   "metadata": {
    "ExecuteTime": {
     "end_time": "2024-01-17T23:56:54.304644Z",
     "start_time": "2024-01-17T23:56:53.865208Z"
    }
   },
   "outputs": [],
   "source": [
    "# Load data\n",
    "ind_psd_xr = xr.open_dataarray(DAT_ROOT/'individual_psd_reordered_matlab.nc')\n",
    "ind_psd = ind_psd_xr.values\n",
    "FREQS = ind_psd_xr[\"frequencies\"].values\n",
    "ind_conn_xr = xr.open_dataarray(DAT_ROOT/'individual_connectomes_reordered.nc')\n",
    "ind_conn = ind_conn_xr.values;"
   ]
  },
  {
   "cell_type": "code",
   "execution_count": 7,
   "id": "4f98de83",
   "metadata": {
    "ExecuteTime": {
     "end_time": "2024-01-17T23:59:11.838224Z",
     "start_time": "2024-01-17T23:59:11.609442Z"
    }
   },
   "outputs": [],
   "source": [
    "# define a SGM model\n",
    "brain = Brain.Brain()\n",
    "brain.add_connectome(DAT_ROOT)\n",
    "brain.reorder_connectome(brain.connectome, brain.distance_matrix)\n",
    "brain.bi_symmetric_c()\n",
    "brain.reduce_extreme_dir()\n",
    "sgmmodel = SGM(brain.reducedConnectome, brain.distance_matrix, FREQS);"
   ]
  },
  {
   "cell_type": "code",
   "execution_count": null,
   "id": "e55ef1c8",
   "metadata": {},
   "outputs": [],
   "source": []
  },
  {
   "cell_type": "markdown",
   "id": "fec57757",
   "metadata": {},
   "source": [
    "# SBI-SGM class"
   ]
  },
  {
   "cell_type": "code",
   "execution_count": 10,
   "id": "6e4d78f0",
   "metadata": {
    "ExecuteTime": {
     "end_time": "2024-01-18T00:01:36.460214Z",
     "start_time": "2024-01-18T00:01:36.422359Z"
    }
   },
   "outputs": [
    {
     "name": "stderr",
     "output_type": "stream",
     "text": [
      "2024-01-17 16:01:36,452 - sbi_sgm - INFO - In this class, the sgm parameter order is ['Taue', 'Taui', 'TauC', 'Speed', 'alpha', 'gii', 'gei'].\n",
      "2024-01-17 16:01:36,453 - sbi_sgm - INFO - {'noise_sd': 0.2, 'num_prior_sps': 1000, 'den_est': 'nsf', 'is_embed': False, 'prior_sd': 10, 'k': 0.1, 'names': ['Taue', 'Taui', 'TauC', 'Speed', 'alpha', 'gii', 'gei'], 'prior_bds': array([[5.e-03, 3.e-02],\n",
      "       [5.e-03, 2.e-01],\n",
      "       [5.e-03, 3.e-02],\n",
      "       [5.e+00, 2.e+01],\n",
      "       [1.e-01, 1.e+00],\n",
      "       [1.e-03, 2.e+00],\n",
      "       [1.e-03, 7.e-01]])}\n",
      "2024-01-17 16:01:36,454 - sbi_sgm - INFO - Results will be saved at /data/rajlab1/user_data/jin/MyResearch/SBI-SGM_clean/notebooks/../mypkg/../results/test_sbisgm.\n"
     ]
    }
   ],
   "source": [
    "# initial the SBI_SGM class\n",
    "# sgmmodel: SGM class.\n",
    "# save_folder: the folder you want to save the results to, str or bool, if True, it generates a default folder\n",
    "# verbose: more output or not. if you feel the output info is annoying, set verbose=False\n",
    "# num_prior_sps: the num of sps used to train SBI\n",
    "# noise_sd: the noise sd added to SGM output \n",
    "# (num_prior_sps, noise_sd) are most inferential params in SBI_SGM\n",
    "# other params for fitting sbi, refer to source file\n",
    "sbi_sgm = SBI_SGM(sgmmodel, save_folder=\"test_sbisgm\", verbose=1, num_prior_sps=1000, noise_sd=0.2);"
   ]
  },
  {
   "cell_type": "code",
   "execution_count": 12,
   "id": "092c8be7",
   "metadata": {
    "ExecuteTime": {
     "end_time": "2024-01-18T00:05:40.866872Z",
     "start_time": "2024-01-18T00:05:40.698116Z"
    }
   },
   "outputs": [
    {
     "name": "stdout",
     "output_type": "stream",
     "text": [
      "Load file /data/rajlab1/user_data/jin/MyResearch/SBI-SGM_clean/notebooks/../mypkg/../results/test_sbisgm/posterior.pkl\n"
     ]
    }
   ],
   "source": [
    "# now you can fit the model\n",
    "# load: if you have saved results, you can set load = true to load it\n",
    "sbi_sgm.SBI_fit(load=True)"
   ]
  },
  {
   "cell_type": "code",
   "execution_count": 13,
   "id": "58ffc553",
   "metadata": {
    "ExecuteTime": {
     "end_time": "2024-01-18T00:05:58.552325Z",
     "start_time": "2024-01-18T00:05:58.520950Z"
    }
   },
   "outputs": [],
   "source": [
    "# you add the psd data for inference \n",
    "# note that psd is not in dB, it is in linear (abs magnitude)\n",
    "sbi_sgm.add_data(psd=ind_psd[:, :, 0]);"
   ]
  },
  {
   "cell_type": "code",
   "execution_count": 14,
   "id": "08e92a45",
   "metadata": {
    "ExecuteTime": {
     "end_time": "2024-01-18T00:06:13.871238Z",
     "start_time": "2024-01-18T00:06:13.486275Z"
    }
   },
   "outputs": [
    {
     "data": {
      "application/vnd.jupyter.widget-view+json": {
       "model_id": "efc01b156c1d49cf9492b79f298ab4d0",
       "version_major": 2,
       "version_minor": 0
      },
      "text/plain": [
       "Drawing 1000 posterior samples:   0%|          | 0/1000 [00:00<?, ?it/s]"
      ]
     },
     "metadata": {},
     "output_type": "display_data"
    },
    {
     "name": "stderr",
     "output_type": "stream",
     "text": [
      "/home/hujin/.local/lib/python3.9/site-packages/nflows/transforms/lu.py:80: UserWarning: torch.triangular_solve is deprecated in favor of torch.linalg.solve_triangularand will be removed in a future PyTorch release.\n",
      "torch.linalg.solve_triangular has its arguments reversed and does not return a copy of one of the inputs.\n",
      "X = torch.triangular_solve(B, A).solution\n",
      "should be replaced with\n",
      "X = torch.linalg.solve_triangular(A, B). (Triggered internally at  ../aten/src/ATen/native/BatchLinearAlgebra.cpp:2189.)\n",
      "  outputs, _ = torch.triangular_solve(\n"
     ]
    }
   ],
   "source": [
    "# Get the posterior samples of SGM\n",
    "# n: num of sps to draw\n",
    "post_sps = sbi_sgm.get_post_sps(n=1000);"
   ]
  },
  {
   "cell_type": "code",
   "execution_count": 16,
   "id": "01944e1a",
   "metadata": {
    "ExecuteTime": {
     "end_time": "2024-01-18T00:07:34.632015Z",
     "start_time": "2024-01-18T00:07:33.905522Z"
    }
   },
   "outputs": [],
   "source": [
    "# based on generated sgm parameters, get modeled psd and sp\n",
    "# Now psd is in std dB\n",
    "psd, sp = sbi_sgm.get_model_psd_sp();"
   ]
  },
  {
   "cell_type": "code",
   "execution_count": 17,
   "id": "a1d72809",
   "metadata": {
    "ExecuteTime": {
     "end_time": "2024-01-18T00:08:37.315895Z",
     "start_time": "2024-01-18T00:08:35.763297Z"
    }
   },
   "outputs": [
    {
     "data": {
      "application/vnd.jupyter.widget-view+json": {
       "model_id": "e2b2c308dc24485aa2fc6d05eee43822",
       "version_major": 2,
       "version_minor": 0
      },
      "text/plain": [
       "Drawing 2 posterior samples:   0%|          | 0/2 [00:00<?, ?it/s]"
      ]
     },
     "metadata": {},
     "output_type": "display_data"
    },
    {
     "data": {
      "application/vnd.jupyter.widget-view+json": {
       "model_id": "c07199612bc94cbcb47b46481394c842",
       "version_major": 2,
       "version_minor": 0
      },
      "text/plain": [
       "Running 2 simulations in 2 batches.:   0%|          | 0/2 [00:00<?, ?it/s]"
      ]
     },
     "metadata": {},
     "output_type": "display_data"
    }
   ],
   "source": [
    "# you can further get posterior PSD (in std dB)\n",
    "# n: num of sps to draw\n",
    "post_psd_sps = sbi_sgm.get_post_psd_sps(n=2);"
   ]
  },
  {
   "cell_type": "code",
   "execution_count": 18,
   "id": "cb54ddf0",
   "metadata": {
    "ExecuteTime": {
     "end_time": "2024-01-18T00:09:09.225610Z",
     "start_time": "2024-01-18T00:09:09.186828Z"
    }
   },
   "outputs": [],
   "source": [
    "# TODO: add harmonic"
   ]
  },
  {
   "cell_type": "code",
   "execution_count": 19,
   "id": "43c52e6c",
   "metadata": {
    "ExecuteTime": {
     "end_time": "2024-01-18T00:09:12.761337Z",
     "start_time": "2024-01-18T00:09:12.540542Z"
    }
   },
   "outputs": [
    {
     "data": {
      "text/plain": [
       "<matplotlib.legend.Legend at 0x7f0017b60190>"
      ]
     },
     "execution_count": 19,
     "metadata": {},
     "output_type": "execute_result"
    },
    {
     "data": {
      "image/png": "[encoded data removed]",
      "text/plain": [
       "<Figure size 432x288 with 1 Axes>"
      ]
     },
     "metadata": {
      "needs_background": "light"
     },
     "output_type": "display_data"
    }
   ],
   "source": [
    "plt.plot(FREQS, stdz_vec(psd.mean(axis=0)), label=\"Model PSD\")\n",
    "plt.plot(FREQS, stdz_vec(psd_2tr(ind_psd[:, :, 0]).mean(axis=0)), label=\"Empirical PSD\")\n",
    "plt.legend()"
   ]
  },
  {
   "cell_type": "code",
   "execution_count": null,
   "id": "1e556805",
   "metadata": {},
   "outputs": [],
   "source": []
  }
 ],
 "metadata": {
  "kernelspec": {
   "display_name": "Python 3 (ipykernel)",
   "language": "python",
   "name": "python3"
  },
  "language_info": {
   "codemirror_mode": {
    "name": "ipython",
    "version": 3
   },
   "file_extension": ".py",
   "mimetype": "text/x-python",
   "name": "python",
   "nbconvert_exporter": "python",
   "pygments_lexer": "ipython3",
   "version": "3.9.7"
  },
  "toc": {
   "base_numbering": 1,
   "nav_menu": {},
   "number_sections": true,
   "sideBar": true,
   "skip_h1_title": false,
   "title_cell": "Table of Contents",
   "title_sidebar": "Contents",
   "toc_cell": false,
   "toc_position": {
    "height": "calc(100% - 180px)",
    "left": "10px",
    "top": "150px",
    "width": "193px"
   },
   "toc_section_display": true,
   "toc_window_display": true
  }
 },
 "nbformat": 4,
 "nbformat_minor": 5
}
