{
 "cells": [
  {
   "cell_type": "markdown",
   "id": "48ee4fd6",
   "metadata": {},
   "source": [
    "This file is to try SBI_SGM \n",
    "\n",
    "And I train model with a general connectome.\n"
   ]
  },
  {
   "cell_type": "markdown",
   "id": "269c1f0a",
   "metadata": {},
   "source": [
    "# import and define"
   ]
  },
  {
   "cell_type": "code",
   "execution_count": 1,
   "id": "4e45686c",
   "metadata": {
    "ExecuteTime": {
     "end_time": "2024-02-01T20:10:50.387290Z",
     "start_time": "2024-02-01T20:10:50.374271Z"
    }
   },
   "outputs": [],
   "source": [
    "import sys\n",
    "sys.path.append(\"../mypkg\")"
   ]
  },
  {
   "cell_type": "code",
   "execution_count": 2,
   "id": "c93dcfe1",
   "metadata": {
    "ExecuteTime": {
     "end_time": "2024-02-01T20:10:51.971731Z",
     "start_time": "2024-02-01T20:10:50.390264Z"
    }
   },
   "outputs": [],
   "source": [
    "from tqdm import trange, tqdm\n",
    "\n",
    "import numpy as np\n",
    "import xarray as xr\n",
    "from easydict import EasyDict as edict\n",
    "from pathlib import Path\n",
    "import pickle\n",
    "import scipy\n",
    "\n",
    "import seaborn as sns\n",
    "import pandas as pd\n",
    "import matplotlib.pyplot as plt\n",
    "from functools import partial\n",
    "import logging"
   ]
  },
  {
   "cell_type": "code",
   "execution_count": 3,
   "id": "8bbf603a",
   "metadata": {
    "ExecuteTime": {
     "end_time": "2024-02-01T20:10:51.988184Z",
     "start_time": "2024-02-01T20:10:51.972765Z"
    }
   },
   "outputs": [],
   "source": [
    "# This will reload all imports as soon as the code changes\n",
    "%load_ext autoreload\n",
    "%autoreload 2"
   ]
  },
  {
   "cell_type": "code",
   "execution_count": 4,
   "id": "da2f4f7a",
   "metadata": {
    "ExecuteTime": {
     "end_time": "2024-02-01T20:10:53.718220Z",
     "start_time": "2024-02-01T20:10:51.992751Z"
    }
   },
   "outputs": [],
   "source": [
    "from constants import RES_ROOT, FIG_ROOT, DATA_ROOT\n",
    "from sbi_sgm import SBI_SGM\n",
    "from spectrome import Brain\n",
    "from sgm.sgm import SGM\n",
    "from utils.standardize import psd_2tr, stdz_vec"
   ]
  },
  {
   "cell_type": "code",
   "execution_count": null,
   "id": "fb05abd8",
   "metadata": {},
   "outputs": [],
   "source": []
  },
  {
   "cell_type": "markdown",
   "id": "4022c78f",
   "metadata": {},
   "source": [
    "# Load real data PSD and brain"
   ]
  },
  {
   "cell_type": "code",
   "execution_count": 5,
   "id": "bb358643",
   "metadata": {
    "ExecuteTime": {
     "end_time": "2024-02-01T20:10:53.974206Z",
     "start_time": "2024-02-01T20:10:53.720185Z"
    }
   },
   "outputs": [],
   "source": [
    "# Load data\n",
    "ind_psd_xr = xr.open_dataarray(DATA_ROOT/'individual_psd_reordered_matlab.nc')\n",
    "ind_psd = ind_psd_xr.values\n",
    "FREQS = ind_psd_xr[\"frequencies\"].values\n",
    "ind_conn_xr = xr.open_dataarray(DATA_ROOT/'individual_connectomes_reordered.nc')\n",
    "ind_conn = ind_conn_xr.values;"
   ]
  },
  {
   "cell_type": "code",
   "execution_count": 6,
   "id": "4f98de83",
   "metadata": {
    "ExecuteTime": {
     "end_time": "2024-02-01T20:10:54.030566Z",
     "start_time": "2024-02-01T20:10:53.976978Z"
    }
   },
   "outputs": [],
   "source": [
    "# define a SGM model\n",
    "brain = Brain.Brain()\n",
    "brain.add_connectome(DATA_ROOT)\n",
    "brain.reorder_connectome(brain.connectome, brain.distance_matrix)\n",
    "brain.bi_symmetric_c()\n",
    "brain.reduce_extreme_dir()\n",
    "\n",
    "# In fact you do not need the `Brain` class stuff, \n",
    "# if you prepared you own sc and dist matrices. \n",
    "sc_mat = brain.reducedConnectome\n",
    "dist_mat = brain.distance_matrix\n",
    "sgmmodel = SGM(sc_mat, dist_mat, FREQS);"
   ]
  },
  {
   "cell_type": "code",
   "execution_count": null,
   "id": "e55ef1c8",
   "metadata": {},
   "outputs": [],
   "source": []
  },
  {
   "cell_type": "markdown",
   "id": "fec57757",
   "metadata": {},
   "source": [
    "# SBI-SGM class"
   ]
  },
  {
   "cell_type": "code",
   "execution_count": 15,
   "id": "6e4d78f0",
   "metadata": {
    "ExecuteTime": {
     "end_time": "2024-02-01T20:16:34.482709Z",
     "start_time": "2024-02-01T20:16:34.240857Z"
    }
   },
   "outputs": [
    {
     "name": "stderr",
     "output_type": "stream",
     "text": [
      "2024-02-01 12:16:34,470 - sbi_sgm - INFO - In this class, the sgm parameter order is ['Taue', 'Taui', 'TauC', 'Speed', 'alpha', 'gii', 'gei'].\n",
      "2024-02-01 12:16:34,472 - sbi_sgm - INFO - {'noise_sd': 0.2, 'num_prior_sps': 1000, 'den_est': 'nsf', 'is_embed': False, 'prior_sd': 10, 'k': 0.1, 'names': ['Taue', 'Taui', 'TauC', 'Speed', 'alpha', 'gii', 'gei'], 'prior_bds': array([[5.e-03, 3.e-02],\n",
      "       [5.e-03, 2.e-01],\n",
      "       [5.e-03, 3.e-02],\n",
      "       [5.e+00, 2.e+01],\n",
      "       [1.e-01, 1.e+00],\n",
      "       [1.e-03, 2.e+00],\n",
      "       [1.e-03, 7.e-01]])}\n",
      "2024-02-01 12:16:34,476 - sbi_sgm - INFO - Results will be saved at /data/rajlab1/user_data/jin/MyResearch/SBI-SGM_clean/notebooks/../mypkg/../results/test_sbisgm.\n"
     ]
    }
   ],
   "source": [
    "# initial the SBI_SGM class\n",
    "# sgmmodel: SGM class.\n",
    "# save_folder: the folder you want to save the results to, str or bool, if True, it generates a default folder\n",
    "# verbose: more output or not. if you feel the output info is annoying, set verbose=False\n",
    "# num_prior_sps: the num of sps used to train SBI\n",
    "# noise_sd: the noise sd added to SGM output \n",
    "# (num_prior_sps, noise_sd) are most inferential params in SBI_SGM\n",
    "# other params for fitting sbi, refer to source file\n",
    "sbi_sgm = SBI_SGM(sgmmodel, save_folder=\"test_sbisgm\", verbose=1, num_prior_sps=1000, noise_sd=0.2);"
   ]
  },
  {
   "cell_type": "code",
   "execution_count": 16,
   "id": "092c8be7",
   "metadata": {
    "ExecuteTime": {
     "end_time": "2024-02-01T20:16:35.265106Z",
     "start_time": "2024-02-01T20:16:35.203238Z"
    }
   },
   "outputs": [
    {
     "name": "stdout",
     "output_type": "stream",
     "text": [
      "Load file /data/rajlab1/user_data/jin/MyResearch/SBI-SGM_clean/notebooks/../mypkg/../results/test_sbisgm/posterior.pkl\n"
     ]
    }
   ],
   "source": [
    "# now you can fit the model\n",
    "# load: if you have saved results, you can set load = true to load it\n",
    "sbi_sgm.SBI_fit(load=True)"
   ]
  },
  {
   "cell_type": "code",
   "execution_count": 17,
   "id": "58ffc553",
   "metadata": {
    "ExecuteTime": {
     "end_time": "2024-02-01T20:16:37.374414Z",
     "start_time": "2024-02-01T20:16:37.329807Z"
    }
   },
   "outputs": [],
   "source": [
    "# you add the psd data for inference \n",
    "# note that psd is not in dB, it is in linear (abs magnitude)\n",
    "sbi_sgm.add_data(psd=ind_psd[:, :, 0]);"
   ]
  },
  {
   "cell_type": "code",
   "execution_count": 23,
   "id": "08e92a45",
   "metadata": {
    "ExecuteTime": {
     "end_time": "2024-02-01T20:16:56.769966Z",
     "start_time": "2024-02-01T20:16:56.500332Z"
    }
   },
   "outputs": [
    {
     "data": {
      "application/vnd.jupyter.widget-view+json": {
       "model_id": "44f185cd3eac418eb03a3a6f4c4deed2",
       "version_major": 2,
       "version_minor": 0
      },
      "text/plain": [
       "Drawing 1000 posterior samples:   0%|          | 0/1000 [00:00<?, ?it/s]"
      ]
     },
     "metadata": {},
     "output_type": "display_data"
    }
   ],
   "source": [
    "# Get the posterior samples of SGM parameters\n",
    "# n: num of sps to draw\n",
    "post_sps = sbi_sgm.get_post_sps(n=1000);"
   ]
  },
  {
   "cell_type": "code",
   "execution_count": 19,
   "id": "01944e1a",
   "metadata": {
    "ExecuteTime": {
     "end_time": "2024-02-01T20:16:39.843851Z",
     "start_time": "2024-02-01T20:16:38.653254Z"
    }
   },
   "outputs": [],
   "source": [
    "# based on generated sgm parameters, get modeled psd \n",
    "# Now psd is in std dB\n",
    "psd = sbi_sgm.get_model_psd();"
   ]
  },
  {
   "cell_type": "code",
   "execution_count": 20,
   "id": "a1d72809",
   "metadata": {
    "ExecuteTime": {
     "end_time": "2024-02-01T20:16:42.649106Z",
     "start_time": "2024-02-01T20:16:40.477378Z"
    }
   },
   "outputs": [
    {
     "data": {
      "application/vnd.jupyter.widget-view+json": {
       "model_id": "096546452c9e46ef90123613dcba2bf1",
       "version_major": 2,
       "version_minor": 0
      },
      "text/plain": [
       "Drawing 10 posterior samples:   0%|          | 0/10 [00:00<?, ?it/s]"
      ]
     },
     "metadata": {},
     "output_type": "display_data"
    },
    {
     "data": {
      "application/vnd.jupyter.widget-view+json": {
       "model_id": "cf3b504350484f28af979852e9cb3552",
       "version_major": 2,
       "version_minor": 0
      },
      "text/plain": [
       "Running 10 simulations in 10 batches.:   0%|          | 0/10 [00:00<?, ?it/s]"
      ]
     },
     "metadata": {},
     "output_type": "display_data"
    }
   ],
   "source": [
    "# you can further get posterior PSD (in std dB)\n",
    "# n: num of sps to draw\n",
    "post_psd_sps = sbi_sgm.get_post_psd_sps(n=10);"
   ]
  },
  {
   "cell_type": "code",
   "execution_count": 21,
   "id": "cb54ddf0",
   "metadata": {
    "ExecuteTime": {
     "end_time": "2024-02-01T20:16:44.756143Z",
     "start_time": "2024-02-01T20:16:44.712373Z"
    }
   },
   "outputs": [],
   "source": [
    "# TODO: add harmonic"
   ]
  },
  {
   "cell_type": "code",
   "execution_count": 22,
   "id": "43c52e6c",
   "metadata": {
    "ExecuteTime": {
     "end_time": "2024-02-01T20:16:45.187251Z",
     "start_time": "2024-02-01T20:16:45.054794Z"
    }
   },
   "outputs": [
    {
     "data": {
      "text/plain": [
       "<matplotlib.legend.Legend at 0x7f0d14ace370>"
      ]
     },
     "execution_count": 22,
     "metadata": {},
     "output_type": "execute_result"
    },
    {
     "data": {
      "image/png": "[encoded data removed]",
      "text/plain": [
       "<Figure size 432x288 with 1 Axes>"
      ]
     },
     "metadata": {
      "needs_background": "light"
     },
     "output_type": "display_data"
    }
   ],
   "source": [
    "plt.plot(FREQS, stdz_vec(psd.mean(axis=0)), label=\"Model PSD\")\n",
    "plt.plot(FREQS, stdz_vec(psd_2tr(ind_psd[:, :, 0]).mean(axis=0)), label=\"Empirical PSD\")\n",
    "plt.legend()"
   ]
  },
  {
   "cell_type": "code",
   "execution_count": null,
   "id": "1e556805",
   "metadata": {},
   "outputs": [],
   "source": []
  }
 ],
 "metadata": {
  "kernelspec": {
   "display_name": "Python 3 (ipykernel)",
   "language": "python",
   "name": "python3"
  },
  "language_info": {
   "codemirror_mode": {
    "name": "ipython",
    "version": 3
   },
   "file_extension": ".py",
   "mimetype": "text/x-python",
   "name": "python",
   "nbconvert_exporter": "python",
   "pygments_lexer": "ipython3",
   "version": "3.9.7"
  },
  "toc": {
   "base_numbering": 1,
   "nav_menu": {},
   "number_sections": true,
   "sideBar": true,
   "skip_h1_title": false,
   "title_cell": "Table of Contents",
   "title_sidebar": "Contents",
   "toc_cell": false,
   "toc_position": {
    "height": "calc(100% - 180px)",
    "left": "10px",
    "top": "150px",
    "width": "193px"
   },
   "toc_section_display": true,
   "toc_window_display": false
  }
 },
 "nbformat": 4,
 "nbformat_minor": 5
}
