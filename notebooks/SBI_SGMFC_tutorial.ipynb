{
 "cells": [
  {
   "cell_type": "markdown",
   "id": "48ee4fd6",
   "metadata": {},
   "source": [
    "This file is to try SBI_SGMFC \n",
    "\n",
    "And I train model with a general connectome.\n"
   ]
  },
  {
   "cell_type": "markdown",
   "id": "269c1f0a",
   "metadata": {},
   "source": [
    "# import and define"
   ]
  },
  {
   "cell_type": "code",
   "execution_count": 5,
   "id": "4e45686c",
   "metadata": {
    "ExecuteTime": {
     "end_time": "2024-01-18T00:09:41.291107Z",
     "start_time": "2024-01-18T00:09:41.150632Z"
    }
   },
   "outputs": [],
   "source": [
    "import sys\n",
    "sys.path.append(\"../mypkg\")"
   ]
  },
  {
   "cell_type": "code",
   "execution_count": 6,
   "id": "c93dcfe1",
   "metadata": {
    "ExecuteTime": {
     "end_time": "2024-01-18T00:09:41.510253Z",
     "start_time": "2024-01-18T00:09:41.482822Z"
    }
   },
   "outputs": [],
   "source": [
    "import torch\n",
    "import numpy as np\n",
    "import xarray as xr\n",
    "import scipy\n",
    "\n",
    "import seaborn as sns\n",
    "import matplotlib.pyplot as plt\n",
    "from functools import partial"
   ]
  },
  {
   "cell_type": "code",
   "execution_count": 7,
   "id": "8bbf603a",
   "metadata": {
    "ExecuteTime": {
     "end_time": "2024-01-18T00:09:42.185292Z",
     "start_time": "2024-01-18T00:09:42.156464Z"
    }
   },
   "outputs": [
    {
     "name": "stdout",
     "output_type": "stream",
     "text": [
      "The autoreload extension is already loaded. To reload it, use:\n",
      "  %reload_ext autoreload\n"
     ]
    }
   ],
   "source": [
    "# This will reload all imports as soon as the code changes\n",
    "%load_ext autoreload\n",
    "%autoreload 2"
   ]
  },
  {
   "cell_type": "code",
   "execution_count": 9,
   "id": "da2f4f7a",
   "metadata": {
    "ExecuteTime": {
     "end_time": "2024-01-18T00:09:55.799543Z",
     "start_time": "2024-01-18T00:09:55.771324Z"
    }
   },
   "outputs": [],
   "source": [
    "from constants import RES_ROOT, FIG_ROOT, DAT_ROOT\n",
    "from spectrome import Brain\n",
    "from sgm.sgmfc import SGMFC\n",
    "from sbi_sgm_fc import SBI_SGMFC\n",
    "from utils.misc import load_pkl"
   ]
  },
  {
   "cell_type": "code",
   "execution_count": null,
   "id": "f3eb67f4",
   "metadata": {},
   "outputs": [],
   "source": []
  },
  {
   "cell_type": "markdown",
   "id": "79c48c62",
   "metadata": {},
   "source": [
    "# Load real data PSD and brain"
   ]
  },
  {
   "cell_type": "code",
   "execution_count": 12,
   "id": "683e7e33",
   "metadata": {
    "ExecuteTime": {
     "end_time": "2024-01-18T00:11:04.191273Z",
     "start_time": "2024-01-18T00:11:04.146974Z"
    }
   },
   "outputs": [
    {
     "name": "stdout",
     "output_type": "stream",
     "text": [
      "Load file /data/rajlab1/user_data/jin/MyResearch/SBI-SGM_clean/notebooks/../mypkg/../data/example_fc.pkl\n"
     ]
    },
    {
     "data": {
      "text/plain": [
       "<sgm.sgmfc.SGMFC at 0x7f66ef988520>"
      ]
     },
     "execution_count": 12,
     "metadata": {},
     "output_type": "execute_result"
    }
   ],
   "source": [
    "empfc = load_pkl(DAT_ROOT/\"example_fc.pkl\");\n",
    "brain = Brain.Brain()\n",
    "brain.add_connectome(DAT_ROOT) # grabs distance matrix\n",
    "# re-ordering for DK atlas and normalizing the connectomes:\n",
    "brain.reorder_connectome(brain.connectome, brain.distance_matrix)\n",
    "brain.bi_symmetric_c()\n",
    "brain.reduce_extreme_dir()\n",
    "\n",
    "# th sgmfc class\n",
    "C = brain.reducedConnectome\n",
    "D = brain.distance_matrix\n",
    "sgmfcmodel = SGMFC(C, D, freqs=\"theta\")"
   ]
  },
  {
   "cell_type": "code",
   "execution_count": null,
   "id": "90b74ee4",
   "metadata": {},
   "outputs": [],
   "source": []
  },
  {
   "cell_type": "markdown",
   "id": "edcfb848",
   "metadata": {},
   "source": [
    "# SBI-SGMFC class"
   ]
  },
  {
   "cell_type": "code",
   "execution_count": 15,
   "id": "66850eaa",
   "metadata": {
    "ExecuteTime": {
     "end_time": "2024-01-18T00:14:00.824510Z",
     "start_time": "2024-01-18T00:14:00.786013Z"
    }
   },
   "outputs": [
    {
     "name": "stderr",
     "output_type": "stream",
     "text": [
      "2024-01-17 16:14:00,816 - sbi_sgm_fc - INFO - In this class, the sgm parameter order is ['TauC', 'Speed', 'alpha'].\n",
      "2024-01-17 16:14:00,817 - sbi_sgm_fc - INFO - {'noise_sd': 1.2, 'num_prior_sps': 500, 'den_est': 'nsf', 'prior_sd': 1, 'k': 1, 'num_round': 3, 'names': ['TauC', 'Speed', 'alpha'], 'prior_bds': array([[5.0e-03, 3.0e-02],\n",
      "       [5.0e+00, 2.0e+01],\n",
      "       [1.0e-01, 1.7e+01]])}\n",
      "2024-01-17 16:14:00,819 - sbi_sgm_fc - INFO - Results will be saved at /data/rajlab1/user_data/jin/MyResearch/SBI-SGM_clean/notebooks/../mypkg/../results/test_sbisgmfc.\n"
     ]
    }
   ],
   "source": [
    "# initial the SBI_SGMFC class\n",
    "# sgmmodel: SGMFC class.\n",
    "# save_folder: the folder you want to save the results to, str or bool, if True, it generates a default folder\n",
    "# verbose: more output or not. if you feel the output info is annoying, set verbose=False\n",
    "# num_prior_sps: the num of sps used to train SBI\n",
    "# noise_sd: the noise sd added to SGM output \n",
    "# num_round: the num of rounds to train SBI, if num_round > 1, you should add data first\n",
    "# (num_prior_sps, noise_sd, num_round) are most inferential params in SBI_SGMFC\n",
    "# other params for fitting sbi, refer to source file\n",
    "\n",
    "#TODO: in the inference, it can also support using annealing to find a good prior for SBI\n",
    "sbi_sgmfc = SBI_SGMFC(sgmfcmodel=sgmfcmodel, save_folder=\"test_sbisgmfc\", verbose=True,\n",
    "                      input_params={\"num_prior_sps\":500, \"noise_sd\":1.2, \"num_round\":3});\n"
   ]
  },
  {
   "cell_type": "code",
   "execution_count": 16,
   "id": "566f612b",
   "metadata": {
    "ExecuteTime": {
     "end_time": "2024-01-18T00:14:01.541627Z",
     "start_time": "2024-01-18T00:14:01.514553Z"
    }
   },
   "outputs": [],
   "source": [
    "# you add the fc data for inference\n",
    "# note that when fitting, we do not use diag terms for fc.\n",
    "#TODO: in the future, it will also support to import raw MEG time series data directly.\n",
    "sbi_sgmfc.add_data(fc=empfc)"
   ]
  },
  {
   "cell_type": "code",
   "execution_count": 18,
   "id": "d895b166",
   "metadata": {
    "ExecuteTime": {
     "end_time": "2024-01-18T00:14:18.539574Z",
     "start_time": "2024-01-18T00:14:18.325504Z"
    }
   },
   "outputs": [
    {
     "name": "stdout",
     "output_type": "stream",
     "text": [
      "Load file /data/rajlab1/user_data/jin/MyResearch/SBI-SGM_clean/notebooks/../mypkg/../results/test_sbisgmfc/posterior.pkl\n"
     ]
    }
   ],
   "source": [
    "# now you can fit the model\n",
    "# load: if you have saved results, you can set load = true to load it\n",
    "sbi_sgmfc.SBI_fit(load=True)"
   ]
  },
  {
   "cell_type": "code",
   "execution_count": 19,
   "id": "a678cfed",
   "metadata": {
    "ExecuteTime": {
     "end_time": "2024-01-18T00:14:34.665634Z",
     "start_time": "2024-01-18T00:14:34.330029Z"
    }
   },
   "outputs": [
    {
     "data": {
      "application/vnd.jupyter.widget-view+json": {
       "model_id": "5cd4ad3673294975a15ab95a113503a2",
       "version_major": 2,
       "version_minor": 0
      },
      "text/plain": [
       "Drawing 1000 posterior samples:   0%|          | 0/1000 [00:00<?, ?it/s]"
      ]
     },
     "metadata": {},
     "output_type": "display_data"
    },
    {
     "name": "stderr",
     "output_type": "stream",
     "text": [
      "/home/hujin/.local/lib/python3.9/site-packages/nflows/transforms/lu.py:80: UserWarning: torch.triangular_solve is deprecated in favor of torch.linalg.solve_triangularand will be removed in a future PyTorch release.\n",
      "torch.linalg.solve_triangular has its arguments reversed and does not return a copy of one of the inputs.\n",
      "X = torch.triangular_solve(B, A).solution\n",
      "should be replaced with\n",
      "X = torch.linalg.solve_triangular(A, B). (Triggered internally at  ../aten/src/ATen/native/BatchLinearAlgebra.cpp:2189.)\n",
      "  outputs, _ = torch.triangular_solve(\n"
     ]
    }
   ],
   "source": [
    "# Get the posterior samples of SGMFC params\n",
    "# n: num of sps to draw\n",
    "sgm_parmas_sps = sbi_sgmfc.get_post_sps(n=1000);"
   ]
  },
  {
   "cell_type": "code",
   "execution_count": 20,
   "id": "cffa7708",
   "metadata": {
    "ExecuteTime": {
     "end_time": "2024-01-18T00:14:40.649550Z",
     "start_time": "2024-01-18T00:14:40.510837Z"
    }
   },
   "outputs": [],
   "source": [
    "# based on generated sgm parameters, get modeled fc\n",
    "# note that the modelled fc is minmaxed\n",
    "estfc = sbi_sgmfc.get_model_fc();"
   ]
  },
  {
   "cell_type": "code",
   "execution_count": 21,
   "id": "24a2a39e",
   "metadata": {
    "ExecuteTime": {
     "end_time": "2024-01-18T00:14:44.943370Z",
     "start_time": "2024-01-18T00:14:43.668019Z"
    }
   },
   "outputs": [
    {
     "name": "stdout",
     "output_type": "stream",
     "text": [
      "The Pearson's corr is 0.219\n"
     ]
    },
    {
     "data": {
      "image/png": "[encoded data removed]",
      "text/plain": [
       "<Figure size 864x720 with 2 Axes>"
      ]
     },
     "metadata": {
      "needs_background": "light"
     },
     "output_type": "display_data"
    }
   ],
   "source": [
    "# let us compare the fitted and the empirical ones\n",
    "_, estvec = sbi_sgmfc.get_stdfc(estfc)\n",
    "std_empfc, empvec = sbi_sgmfc.get_stdfc(empfc);\n",
    "corr = scipy.stats.pearsonr(estvec, empvec)[0];\n",
    "\n",
    "mat = np.zeros_like(estfc)\n",
    "uidxs = np.triu_indices_from(estfc, k=1)\n",
    "lidxs = np.tril_indices_from(estfc, k=1)\n",
    "mat[lidxs] = std_empfc[lidxs]\n",
    "mat[uidxs] = estfc[uidxs]\n",
    "\n",
    "plt.figure(figsize=[12, 10])\n",
    "plt.title(f\"Estimated FC (upper triangular) vs Empirical FC (lower triangular)\", fontsize=20)\n",
    "sns.heatmap(mat, square=True)\n",
    "plt.xticks([])\n",
    "plt.yticks([]);\n",
    "print(f\"The Pearson's corr is {corr:.3f}\");"
   ]
  },
  {
   "cell_type": "code",
   "execution_count": null,
   "id": "fb05abd8",
   "metadata": {},
   "outputs": [],
   "source": []
  }
 ],
 "metadata": {
  "kernelspec": {
   "display_name": "Python 3 (ipykernel)",
   "language": "python",
   "name": "python3"
  },
  "language_info": {
   "codemirror_mode": {
    "name": "ipython",
    "version": 3
   },
   "file_extension": ".py",
   "mimetype": "text/x-python",
   "name": "python",
   "nbconvert_exporter": "python",
   "pygments_lexer": "ipython3",
   "version": "3.9.7"
  },
  "toc": {
   "base_numbering": 1,
   "nav_menu": {},
   "number_sections": true,
   "sideBar": true,
   "skip_h1_title": false,
   "title_cell": "Table of Contents",
   "title_sidebar": "Contents",
   "toc_cell": false,
   "toc_position": {
    "height": "calc(100% - 180px)",
    "left": "10px",
    "top": "150px",
    "width": "193px"
   },
   "toc_section_display": true,
   "toc_window_display": false
  }
 },
 "nbformat": 4,
 "nbformat_minor": 5
}
